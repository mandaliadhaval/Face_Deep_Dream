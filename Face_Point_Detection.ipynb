{
 "cells": [
  {
   "cell_type": "code",
   "execution_count": 1,
   "metadata": {},
   "outputs": [],
   "source": [
    "import cv2\n",
    "import dlib\n",
    "import json\n",
    "import argparse\n",
    "import easydict"
   ]
  },
  {
   "cell_type": "code",
   "execution_count": 4,
   "metadata": {},
   "outputs": [],
   "source": [
    "def face_points_detection(img, bbox):\n",
    "    PREDICTOR_PATH = 'D:/Machine_Learning/Projects/Face Deep Dream/models/shape_predictor_68_face_landmarks.dat'\n",
    "    predictor = dlib.shape_predictor(PREDICTOR_PATH)\n",
    "    \n",
    "    # Get the landmarks/parts for the face in box d.\n",
    "    shape = predictor(img, bbox)\n",
    "\n",
    "    # loop over the 68 facial landmarks and convert them\n",
    "    # to a 2-tuple of (x, y)-coordinates\n",
    "    coords = [(shape.part(i).x, shape.part(i).y) for i in range(68)]\n",
    "\n",
    "    # return the list of (x, y)-coordinates\n",
    "    return coords"
   ]
  },
  {
   "cell_type": "code",
   "execution_count": 7,
   "metadata": {},
   "outputs": [],
   "source": [
    "if __name__ == '__main__':\n",
    "    args = easydict.EasyDict({\n",
    "        \"img_path\": 'D:/Machine_Learning/Projects/Face Deep Dream/input/Dhaval.jpg',\n",
    "        \"bbox_path\": 'D:/Machine_Learning/Projects/Face Deep Dream/output/Dhaval.face.json',\n",
    "        \"out\": 'D:/Machine_Learning/Projects/Face Deep Dream/output/Dhaval.face.points.json',\n",
    "        \"index\": '1'\n",
    "        })\n",
    "    args.index = 0\n",
    "    #parser = argparse.ArgumentParser(description='FaceSwap Demo')\n",
    "    #parser.add_argument('--img_path', required=True, help='Path for input image')\n",
    "    #parser.add_argument('--bbox_path', required=True, help='Path for bboxes')\n",
    "    #parser.add_argument('--index', type=int, default=0, help='Which bbox to use')\n",
    "    #parser.add_argument('--out', required=True, help='Path for storing face points')\n",
    "    #args = parser.parse_args()\n",
    "\n",
    "    # ## Debug\n",
    "     #args.img_path = 'D:/Machine_Learning/Projects/Face Deep Dream/input/Mark.jpg'\n",
    "     #args.bbox_path = 'D:/Machine_Learning/Projects/Face Deep Dream/output/Mark.face.json'\n",
    "     #args.index = 0\n",
    "    # args.out = 'D:/Machine_Learning/Projects/Face Deep Dream/output/Mark.face.points.json'\n",
    "\n",
    "    # Read images\n",
    "    img = cv2.imread(args.img_path)\n",
    "    with open(args.bbox_path) as f:\n",
    "        bbox = dlib.rectangle(*json.load(f)[args.index])\n",
    "\n",
    "    # Array of corresponding points\n",
    "    points = face_points_detection(img, bbox)\n",
    "\n",
    "    with open(args.out, 'w') as f:\n",
    "        json.dump(points, f)"
   ]
  },
  {
   "cell_type": "code",
   "execution_count": null,
   "metadata": {},
   "outputs": [],
   "source": []
  }
 ],
 "metadata": {
  "kernelspec": {
   "display_name": "Python 3",
   "language": "python",
   "name": "python3"
  },
  "language_info": {
   "codemirror_mode": {
    "name": "ipython",
    "version": 3
   },
   "file_extension": ".py",
   "mimetype": "text/x-python",
   "name": "python",
   "nbconvert_exporter": "python",
   "pygments_lexer": "ipython3",
   "version": "3.6.6"
  }
 },
 "nbformat": 4,
 "nbformat_minor": 2
}
