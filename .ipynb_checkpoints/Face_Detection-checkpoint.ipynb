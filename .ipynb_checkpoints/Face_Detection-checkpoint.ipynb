{
 "cells": [
  {
   "cell_type": "code",
   "execution_count": 1,
   "metadata": {},
   "outputs": [],
   "source": [
    "import cv2\n",
    "import dlib\n",
    "import json\n",
    "import argparse\n",
    "import easydict"
   ]
  },
  {
   "cell_type": "code",
   "execution_count": 2,
   "metadata": {},
   "outputs": [],
   "source": [
    "def face_detection(img):\n",
    "    # Ask the detector to find the bounding boxes of each face. The 1 in the\n",
    "    # second argument indicates that we should upsample the image 1 time. This\n",
    "    # will make everything bigger and allow us to detect more faces.\n",
    "    detector = dlib.get_frontal_face_detector()\n",
    "    faces = detector(img, 1)\n",
    "\n",
    "    return faces"
   ]
  },
  {
   "cell_type": "code",
   "execution_count": 3,
   "metadata": {},
   "outputs": [],
   "source": [
    "if __name__ == '__main__':\n",
    "    args = easydict.EasyDict({\n",
    "        \"img_path\": 'D:/Machine_Learning/Projects/Face Deep Dream/input/MultiFace-Test.jpg',\n",
    "        \"out\": 'D:/Machine_Learning/Projects/Face Deep Dream/output/MultiFace-Test.face.json',\n",
    "        })\n",
    "    \n",
    "    # ## Debug\n",
    "    #args.img_path = 'D:/Machine_Learning/Projects/Face Deep Dream/input/Mark.jpg'\n",
    "    #args.out = 'D:/Machine_Learning/Projects/Face Deep Dream/output/Mark.face.json'\n",
    "    # Read images\n",
    "    img = cv2.imread(args.img_path)\n",
    "    faces = face_detection(img)\n",
    "    bboxs = []\n",
    "\n",
    "    for face in faces:\n",
    "        bboxs.append((face.left(), face.top(), face.right(), face.bottom()))\n",
    "\n",
    "    with open(args.out, 'w') as f:\n",
    "        json.dump(bboxs, f)"
   ]
  },
  {
   "cell_type": "code",
   "execution_count": null,
   "metadata": {},
   "outputs": [],
   "source": []
  }
 ],
 "metadata": {
  "kernelspec": {
   "display_name": "Python 3",
   "language": "python",
   "name": "python3"
  },
  "language_info": {
   "codemirror_mode": {
    "name": "ipython",
    "version": 3
   },
   "file_extension": ".py",
   "mimetype": "text/x-python",
   "name": "python",
   "nbconvert_exporter": "python",
   "pygments_lexer": "ipython3",
   "version": "3.6.6"
  }
 },
 "nbformat": 4,
 "nbformat_minor": 2
}
